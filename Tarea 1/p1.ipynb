{
 "cells": [
  {
   "cell_type": "markdown",
   "metadata": {},
   "source": [
    "# Integración numérica de la ecuación de onda\n",
    "Utilizaré distintos métodos (pues el profe hinteó que los algorimos usuales no van a funcionar, pero quisiera ver qué es lo que le pasa) para integrar numéricamente la ecuación de onda adimensionalizada:\n",
    "$$\n",
    "\\partial_{tt} u(t, x) = \\partial_{xx} u(t, x)\n",
    "$$\n"
   ]
  },
  {
   "cell_type": "markdown",
   "metadata": {},
   "source": [
    "## Algoritmo naive:\n",
    "\n",
    "La idea es usar la clásica discretización de la segunda derivada a ambos lados:\n",
    "\n",
    "$$\n",
    "\\partial_{zz} f(z) \\approx \\frac{f(z + h) - 2 f(z) + f(z - h)}{h^2} \n",
    "$$\n",
    "\n",
    "Y con esto, despejar el valor de $u(t + \\Delta t, x)$ en función de valores de tiempos anteriores y otras posiciones. Para el primer paso de tiempo simplemente usaré la condición inicial, es decir, supongo velocidad inicial 0 para cada $u(\\cdot, x)$. También usaré condiciones de borde fijas.\n"
   ]
  },
  {
   "cell_type": "code",
   "execution_count": 106,
   "metadata": {},
   "outputs": [
    {
     "name": "stdout",
     "output_type": "stream",
     "text": [
      "s = 0.010000000000000002\n"
     ]
    },
    {
     "name": "stderr",
     "output_type": "stream",
     "text": [
      "WARNING: redefinition of constant Main.Δt. This may fail, cause incorrect answers, or produce other errors.\n",
      "WARNING: redefinition of constant Main.s. This may fail, cause incorrect answers, or produce other errors.\n",
      "WARNING: redefinition of constant Main.sMatrix. This may fail, cause incorrect answers, or produce other errors.\n"
     ]
    },
    {
     "data": {
      "text/plain": [
       "0.0:0.01:1.0"
      ]
     },
     "metadata": {},
     "output_type": "display_data"
    }
   ],
   "source": [
    "using LinearAlgebra\n",
    "using GLMakie\n",
    "\n",
    "const x_largo = 1.0\n",
    "const N_x = 101\n",
    "const Δt = 0.001\n",
    "const Δx = x_largo/(N_x - 1)\n",
    "const s = (Δt/Δx)^2\n",
    "println(\"s = \", s)\n",
    "const sMatrix = Tridiagonal(ones(N_x-3) .* s, ones(N_x-2) .* 2 .* (1 - s), ones(N_x-3) .* s)\n",
    "const bordes = 0.0\n",
    "const x = range(0, x_largo, length=N_x)"
   ]
  },
  {
   "cell_type": "code",
   "execution_count": 107,
   "metadata": {},
   "outputs": [
    {
     "data": {
      "text/plain": [
       "actualizar_animacion! (generic function with 1 method)"
      ]
     },
     "metadata": {},
     "output_type": "display_data"
    }
   ],
   "source": [
    "function paso_temporal!(u, u_anterior)\n",
    "    buffer = copy(u)\n",
    "    u[2:end-1] .= sMatrix * u[2:end-1] .- u_anterior[2:end-1]\n",
    "    u[1] = bordes\n",
    "    u[end] = bordes # En verdad esto no es necesario.\n",
    "    u[2] += s * bordes \n",
    "    u[end-1] += s * bordes\n",
    "    u_anterior .= buffer\n",
    "end\n",
    "\n",
    "function actualizar_animacion!(i)\n",
    "    lines[1][] = Point2f[[x[i], u[i]] for i in 1:N_x] # Detesto tener que hacer esto.\n",
    "    paso_temporal!(u, u_anterior)\n",
    "    return\n",
    "end"
   ]
  },
  {
   "cell_type": "code",
   "execution_count": 108,
   "metadata": {},
   "outputs": [
    {
     "data": {
      "text/plain": [
       "\"modo_normal.mp4\""
      ]
     },
     "metadata": {},
     "output_type": "display_data"
    }
   ],
   "source": [
    "# Animación:\n",
    "\n",
    "u = sin.(2π .* x)\n",
    "u_anterior = copy(u)\n",
    "fig = Figure()\n",
    "ax = Axis(fig[1, 1])\n",
    "lines = lines!(ax, x, u)\n",
    "\n",
    "nframes = 480\n",
    "framerate = 60\n",
    "\n",
    "record(actualizar_animacion!, fig, \"modo_normal.mp4\", 1:nframes; framerate=framerate)\n"
   ]
  },
  {
   "cell_type": "markdown",
   "metadata": {},
   "source": [
    "Ahora otra condición inicial"
   ]
  },
  {
   "cell_type": "code",
   "execution_count": 109,
   "metadata": {},
   "outputs": [
    {
     "data": {
      "text/plain": [
       "\"triángulo.mp4\""
      ]
     },
     "metadata": {},
     "output_type": "display_data"
    }
   ],
   "source": [
    "function u_func(x)\n",
    "    if x < 1/3 || x > 2/3\n",
    "        return 0.0\n",
    "    elseif x < 1/2\n",
    "        return x - 1/3\n",
    "    else\n",
    "        return 2/3 - x\n",
    "    end\n",
    "end\n",
    "\n",
    "\n",
    "u = u_func.(x)\n",
    "u_anterior = copy(u)\n",
    "fig = Figure()\n",
    "ax = Axis(fig[1, 1])\n",
    "lines = lines!(ax, x, u)\n",
    "\n",
    "nframes = 480\n",
    "framerate = 60\n",
    "\n",
    "record(actualizar_animacion!, fig, \"triángulo.mp4\", 1:nframes; framerate=framerate)\n"
   ]
  },
  {
   "cell_type": "markdown",
   "metadata": {},
   "source": [
    "Vemos que hay unas oscilaciones extrañas ahí metidas. Creo que debería hacer un análisis de estabilidad para ver qué está pasando y por qué."
   ]
  }
 ],
 "metadata": {
  "kernelspec": {
   "display_name": "Julia 1.10.0",
   "language": "julia",
   "name": "julia-1.10"
  },
  "language_info": {
   "file_extension": ".jl",
   "mimetype": "application/julia",
   "name": "julia",
   "version": "1.10.0"
  }
 },
 "nbformat": 4,
 "nbformat_minor": 2
}
