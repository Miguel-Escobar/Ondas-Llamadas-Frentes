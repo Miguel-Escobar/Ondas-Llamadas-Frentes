{
 "cells": [
  {
   "cell_type": "markdown",
   "metadata": {},
   "source": [
    "# Integración numérica de la ecuación de onda\n",
    "Utilizaré un método (o más de ser necesario, pues se hinteó que no iba a ser directo) para integrar numéricamente la ecuación de onda adimensionalizada:\n",
    "$$\n",
    "\\partial_{tt} u(t, x) = \\partial_{xx} u(t, x)\n",
    "$$\n",
    "\n",
    "Para correr este notebook se necesita instalar el paquete GLMakie.jl, que se puede instalar con el comando `]add GLMakie` en la consola de Julia."
   ]
  },
  {
   "cell_type": "markdown",
   "metadata": {},
   "source": [
    "## Algoritmo naive:\n",
    "\n",
    "La idea es usar la clásica discretización de la segunda derivada a ambos lados:\n",
    "\n",
    "$$\n",
    "\\partial_{zz} f(z) \\approx \\frac{f(z + h) - 2 f(z) + f(z - h)}{h^2} \n",
    "$$\n",
    "\n",
    "Y con esto, despejar el valor de $u(t + \\Delta t, x)$ en función de valores de tiempos anteriores y otras posiciones. Para el primer paso de tiempo simplemente usaré la condición inicial, es decir, supongo velocidad inicial 0 para cada $u(\\cdot, x)$. También usaré condiciones de borde fijas.\n"
   ]
  },
  {
   "cell_type": "code",
   "execution_count": null,
   "metadata": {},
   "outputs": [],
   "source": [
    "using LinearAlgebra\n",
    "using GLMakie\n",
    "using Printf\n",
    "using Integrals\n",
    "\n",
    "const x_largo = 1.0\n",
    "const N_x = 201\n",
    "const x = range(0, x_largo, length=N_x)\n",
    "const Δx = x[2] - x[1]\n",
    "const Δt = Δx\n",
    "const s = (Δt/Δx)^2\n",
    "const sMatrix = Tridiagonal(ones(N_x-3) .* s, ones(N_x-2) .* 2 .* (1 - s), ones(N_x-3) .* s)\n",
    "const bordes = 0.0\n",
    "\n",
    "println(\"s = \", s)"
   ]
  },
  {
   "cell_type": "code",
   "execution_count": null,
   "metadata": {},
   "outputs": [],
   "source": [
    "function paso_temporal!(u, u_anterior)\n",
    "    buffer = copy(u)\n",
    "    u[2:end-1] .= sMatrix * u[2:end-1] .- u_anterior[2:end-1]\n",
    "    u[1] = bordes\n",
    "    u[end] = bordes # En verdad esto no es necesario.\n",
    "    u[2] += s * bordes \n",
    "    u[end-1] += s * bordes\n",
    "    u_anterior .= buffer\n",
    "end\n",
    "\n",
    "function actualizar_animacion!(i)\n",
    "    lines[1][] = Point2f[[x[i], u[i]] for i in 1:N_x] # Horrible sintaxis.\n",
    "    text.text[] = @sprintf(\"Energía = %.3f\", energía(u, u_anterior))\n",
    "    paso_temporal!(u, u_anterior)\n",
    "    return\n",
    "end\n",
    "\n",
    "function energía(u, u_anterior)\n",
    "    dudt = (u[2:end-1] - u_anterior[2:end-1])/Δt \n",
    "    dudx = (u[3:end] - u[1:end-2])/(2 * Δx) # Aproximaciones esooo \n",
    "    pot_energy_problem = SampledIntegralProblem(dudt.^2, x[2:end-1])  # En esta expresión uso densidad de masa unitaria.\n",
    "    kin_energy_problem = SampledIntegralProblem(dudx.^2, x[2:end-1])\n",
    "    method = TrapezoidalRule()\n",
    "    pot = solve(pot_energy_problem, method)\n",
    "    kin = solve(kin_energy_problem, method)\n",
    "    return (pot.u + kin.u)/2.0\n",
    "end\n"
   ]
  },
  {
   "cell_type": "code",
   "execution_count": null,
   "metadata": {},
   "outputs": [],
   "source": [
    "# Animación:\n",
    "\n",
    "u = sin.(2π .* x)\n",
    "u_anterior = copy(u)\n",
    "fig = Figure()\n",
    "ax = Axis(fig[1, 1], limits=(0, 1, -1, 1))\n",
    "text = text!(ax, 0.03, 0.9, text=@sprintf(\"Energía = %.3f\", energía(u, u_anterior)))\n",
    "lines = lines!(ax, x, u)\n",
    "nframes = 1080\n",
    "framerate = 60\n",
    "\n",
    "record(actualizar_animacion!, fig, \"modo_normal.mp4\", 1:nframes; framerate=framerate)\n"
   ]
  },
  {
   "cell_type": "markdown",
   "metadata": {},
   "source": [
    "Ahora otra condición inicial"
   ]
  },
  {
   "cell_type": "code",
   "execution_count": null,
   "metadata": {},
   "outputs": [],
   "source": [
    "function u_func(x)\n",
    "    if x < 1/3 || x > 2/3\n",
    "        return 0.0\n",
    "    elseif x < 1/2\n",
    "        return x - 1/3\n",
    "    else\n",
    "        return 2/3 - x\n",
    "    end\n",
    "end\n",
    "\n",
    "u = u_func.(x)\n",
    "u_anterior = copy(u)\n",
    "fig = Figure()\n",
    "ax = Axis(fig[1, 1], limits=(0, 1, -0.2, 0.2))\n",
    "lines = lines!(ax, x, u)\n",
    "text = text!(ax, 0.03, 0.16, text=@sprintf(\"Energía = %.3f\", energía(u, u_anterior)))\n",
    "nframes = 1080\n",
    "framerate = 60\n",
    "\n",
    "record(actualizar_animacion!, fig, \"triángulo.mp4\", 1:nframes; framerate=framerate)\n"
   ]
  },
  {
   "cell_type": "markdown",
   "metadata": {},
   "source": [
    "Adjuntaré un análisis de estabilidad que hice, que me asegura que cuando $ s\\leq 1$ el método es estable. También vemos que para $s<1$, la condición inicial no se rearma en un periodo. Esto sólo puede ocurrir si la relación de dispersión numérica es distinta a la exacta (que es $\\omega = k$). Vemos que hay unas oscilaciones extrañas ahí metidas cuando $s = 1$, una especie de ruido (proveniente del modo más pequeño posible debido a la discretización) que me dificulta calcular la energía, dandome valores muy oscilantes. Sin embargo, está claro que la energía efectivamente se conserva pues al cabo de varias oscilaciones, la condición inicial se rearma."
   ]
  },
  {
   "cell_type": "markdown",
   "metadata": {},
   "source": [
    "## Corrección no lineal"
   ]
  },
  {
   "cell_type": "markdown",
   "metadata": {},
   "source": [
    "Agregamos ahora la primera corrección no-lineal de la ecuación. La ecuación de onda no lineal es:\n",
    "\n",
    "$$\n",
    "\\partial_{tt} u(t, x) = \\partial_{xx} u(t, x) (1 + 2 \\partial_x u(t, x)^2)\n",
    "$$\n",
    "\n",
    "Esto se puede discretizar de la misma forma que antes, pero ahora hay que calcular la derivada espacial de $u$ en cada paso de tiempo. Para esto, usaré un esquema de diferencias finitas centradas.\n",
    "\n",
    "$$\n",
    "\\partial_x u(t, x) \\approx \\frac{u(t, x + h) - u(t, x - h)}{2h}\n",
    "$$\n"
   ]
  },
  {
   "cell_type": "code",
   "execution_count": null,
   "metadata": {},
   "outputs": [],
   "source": [
    "function paso_temporal_no_lineal!(u, u_anterior)\n",
    "    buffer = copy(u)\n",
    "    u[2:end-1] .= sMatrix * u[2:end-1] .- u_anterior[2:end-1]\n",
    "    u[2:end-1] .-= 1 .* ((u[3:end] .- u[1:end-2])./(2*Δx)).^2 .* s .* (u[3:end] .- 2 .* u[2:end-1] .+ u[1:end-2])\n",
    "    u[1] = bordes\n",
    "    u[end] = bordes # En verdad esto no es necesario.\n",
    "    u[2] += s * bordes \n",
    "    u[end-1] += s * bordes\n",
    "    u_anterior .= buffer\n",
    "end\n",
    "\n",
    "function actualizar_animacion_no_lineal!(i)\n",
    "    lines[1][] = Point2f[[x[i], u[i]] for i in 1:N_x] # Horrible sintaxis.\n",
    "    paso_temporal_no_lineal!(u, u_anterior)\n",
    "    return\n",
    "end"
   ]
  },
  {
   "cell_type": "code",
   "execution_count": null,
   "metadata": {},
   "outputs": [],
   "source": [
    "u = sin.(π .* x) ./ 50 # Debo dividir para estar en la región de validez.\n",
    "u_anterior = copy(u)\n",
    "fig = Figure()\n",
    "ax = Axis(fig[1, 1], limits=(0, 1, -1/50., 1/50))\n",
    "lines = lines!(ax, x, u)\n",
    "nframes = 60*10\n",
    "framerate = 60\n",
    "\n",
    "record(actualizar_animacion_no_lineal!, fig, \"modo_normal_no_lineal.mp4\", 1:nframes; framerate=framerate)"
   ]
  },
  {
   "cell_type": "markdown",
   "metadata": {},
   "source": [
    "### Comentarios:\n",
    "\n",
    "Para la corrección no lineal, noto que mi ecuación explota para condidiones inicales con derivadas muy grandes (lo cual es de esperar, pues no estoy incluyendo todos los términos del taylor y ya no puedo confiar en la linealidad para hacer sentido de condiciones con derivadas grandes).\n",
    "\n",
    "La verdad quizás sea otro tipo de corrección no lineal la que se buscaba, como la del experimento de Fermi-Pasta-Ulam-Tsingou. La corrección no lineal de este caso vendría de términos no lineales en los resortes que unen las masas del modelo discreto, lo cual no es lo que estoy haciendo aquí. De hecho, mantuve restringido el movimiento en x para derivar esta ecuación, lo cual igual es fuerte y me restringe a regiones de validez pequeñas."
   ]
  }
 ],
 "metadata": {
  "kernelspec": {
   "display_name": "Julia 1.10.0",
   "language": "julia",
   "name": "julia-1.10"
  },
  "language_info": {
   "file_extension": ".jl",
   "mimetype": "application/julia",
   "name": "julia",
   "version": "1.10.0"
  }
 },
 "nbformat": 4,
 "nbformat_minor": 2
}
