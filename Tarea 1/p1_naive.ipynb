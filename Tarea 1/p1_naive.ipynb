{
 "cells": [
  {
   "cell_type": "markdown",
   "metadata": {},
   "source": [
    "# Integración numérica de la ecuación de onda\n",
    "Utilizaré distintos métodos (pues el profe hinteó que los algorimos usuales no van a funcionar, pero quisiera ver qué es lo que le pasa) para integrar numéricamente la ecuación de onda adimensionalizada:\n",
    "$$\n",
    "\\partial_{tt} u(t, x) = \\partial_{xx} u(t, x)\n",
    "$$\n"
   ]
  },
  {
   "cell_type": "markdown",
   "metadata": {},
   "source": [
    "## Algoritmo naive:\n",
    "\n",
    "La idea es usar la clásica discretización de la segunda derivada a ambos lados:\n",
    "\n",
    "$$\n",
    "\\partial_{zz} f(z) \\approx \\frac{f(z + h) - 2 f(z) + f(z - h)}{h^2} \n",
    "$$\n",
    "\n",
    "Y con esto, despejar el valor de $u(t + \\Delta t, x)$ en función de valores de tiempos anteriores y otras posiciones. Para el primer paso de tiempo simplemente usaré la condición inicial, es decir, supongo velocidad inicial 0 para cada $u(\\cdot, x)$. También usaré condiciones de borde fijas.\n"
   ]
  },
  {
   "cell_type": "code",
   "execution_count": 54,
   "metadata": {},
   "outputs": [
    {
     "name": "stdout",
     "output_type": "stream",
     "text": [
      "s = 1.0\n"
     ]
    },
    {
     "name": "stderr",
     "output_type": "stream",
     "text": [
      "WARNING: redefinition of constant Main.N_x. This may fail, cause incorrect answers, or produce other errors.\n",
      "WARNING: redefinition of constant Main.Δx. This may fail, cause incorrect answers, or produce other errors.\n",
      "WARNING: redefinition of constant Main.Δt. This may fail, cause incorrect answers, or produce other errors.\n",
      "WARNING: redefinition of constant Main.sMatrix. This may fail, cause incorrect answers, or produce other errors.\n",
      "WARNING: redefinition of constant Main.x. This may fail, cause incorrect answers, or produce other errors.\n"
     ]
    }
   ],
   "source": [
    "using LinearAlgebra\n",
    "using GLMakie\n",
    "using Printf\n",
    "using Integrals\n",
    "\n",
    "const x_largo = 1.0\n",
    "const N_x = 101\n",
    "const Δx = x_largo/(N_x - 1)\n",
    "const Δt = Δx*1.0\n",
    "const s = (Δt/Δx)^2\n",
    "const sMatrix = Tridiagonal(ones(N_x-3) .* s, ones(N_x-2) .* 2 .* (1 - s), ones(N_x-3) .* s)\n",
    "const bordes = 0.0\n",
    "const x = range(0, x_largo, length=N_x)\n",
    "\n",
    "println(\"s = \", s)"
   ]
  },
  {
   "cell_type": "code",
   "execution_count": 55,
   "metadata": {},
   "outputs": [
    {
     "data": {
      "text/plain": [
       "energía (generic function with 1 method)"
      ]
     },
     "metadata": {},
     "output_type": "display_data"
    }
   ],
   "source": [
    "function paso_temporal!(u, u_anterior)\n",
    "    buffer = copy(u)\n",
    "    u[2:end-1] .= sMatrix * u[2:end-1] .- u_anterior[2:end-1]\n",
    "    u[1] = bordes\n",
    "    u[end] = bordes # En verdad esto no es necesario.\n",
    "    u[2] += s * bordes \n",
    "    u[end-1] += s * bordes\n",
    "    u_anterior .= buffer\n",
    "end\n",
    "\n",
    "function actualizar_animacion!(i)\n",
    "    lines[1][] = Point2f[[x[i], u[i]] for i in 1:N_x] # Horrible sintaxis.\n",
    "    text.text[] = @sprintf(\"Energía = %.3f\", energía(u, u_anterior))\n",
    "    paso_temporal!(u, u_anterior)\n",
    "    return\n",
    "end\n",
    "\n",
    "function energía(u, u_anterior)\n",
    "    dudt = (u - u_anterior)/Δt \n",
    "    dudx = (u[2:end] - u[1:end-1])/Δx # Aproximaciones esooo \n",
    "    pot_energy_problem = SampledIntegralProblem(dudt.^2, x)  # En esta expresión uso densidad de masa unitaria.\n",
    "    kin_energy_problem = SampledIntegralProblem(dudx.^2, x[1:end-1])\n",
    "    method = TrapezoidalRule()\n",
    "    pot = solve(pot_energy_problem, method)\n",
    "    kin = solve(kin_energy_problem, method)\n",
    "    return (pot.u + kin.u)/2.0\n",
    "end\n"
   ]
  },
  {
   "cell_type": "code",
   "execution_count": 56,
   "metadata": {},
   "outputs": [
    {
     "data": {
      "text/plain": [
       "\"modo_normal.mp4\""
      ]
     },
     "metadata": {},
     "output_type": "display_data"
    }
   ],
   "source": [
    "# Animación:\n",
    "\n",
    "u = sin.(2π .* x)\n",
    "u_anterior = copy(u)\n",
    "fig = Figure()\n",
    "ax = Axis(fig[1, 1], limits=(0, 1, -1, 1))\n",
    "text = text!(ax, 0.1, 0.9, text=@sprintf(\"Energía = %.3f\", energía(u, u_anterior)))\n",
    "lines = lines!(ax, x, u)\n",
    "nframes = 1080\n",
    "framerate = 60\n",
    "\n",
    "record(actualizar_animacion!, fig, \"modo_normal.mp4\", 1:nframes; framerate=framerate)\n"
   ]
  },
  {
   "cell_type": "markdown",
   "metadata": {},
   "source": [
    "Ahora otra condición inicial"
   ]
  },
  {
   "cell_type": "code",
   "execution_count": 57,
   "metadata": {},
   "outputs": [
    {
     "data": {
      "text/plain": [
       "\"triángulo.mp4\""
      ]
     },
     "metadata": {},
     "output_type": "display_data"
    }
   ],
   "source": [
    "function u_func(x)\n",
    "    if x < 1/3 || x > 2/3\n",
    "        return 0.0\n",
    "    elseif x < 1/2\n",
    "        return x - 1/3\n",
    "    else\n",
    "        return 2/3 - x\n",
    "    end\n",
    "end\n",
    "\n",
    "using Printf\n",
    "\n",
    "u = u_func.(x)\n",
    "u_anterior = copy(u)\n",
    "fig = Figure()\n",
    "ax = Axis(fig[1, 1], limits=(0, 1, -1/3, 1/3))\n",
    "lines = lines!(ax, x, u)\n",
    "text = text!(ax, 0.0, 0.16, text=@sprintf(\"Energía = %.3f\", energía(u, u_anterior)))\n",
    "nframes = 1080\n",
    "framerate = 60\n",
    "\n",
    "record(actualizar_animacion!, fig, \"triángulo.mp4\", 1:nframes; framerate=framerate)\n"
   ]
  },
  {
   "cell_type": "markdown",
   "metadata": {},
   "source": [
    "Adjuntaré un análisis de estabilidad que hice, que me asegura que cuando $ s\\leq 1$ el método es estable. También vemos que para $s<1$, la condición inicial no se rearma en un periodo. Esto sólo puede ocurrir si la relación de dispersión numérica es distinta a la exacta (que es $\\omega = k$). Vemos que hay unas oscilaciones extrañas ahí metidas cuando $s = 1$, una especie de ruido (proveniente del modo más pequeño posible debido a la discretización) que me dificulta calcular la energía, dandome valores muy oscilantes. Sin embargo, está claro que la energía efectivamente se conserva pues al cabo de varias oscilaciones, la condición inicial se rearma."
   ]
  },
  {
   "cell_type": "markdown",
   "metadata": {},
   "source": [
    "## Corrección no lineal"
   ]
  },
  {
   "cell_type": "markdown",
   "metadata": {},
   "source": [
    "Agregamos ahora la primera corrección no-lineal de la ecuación. La ecuación de onda no lineal es:\n",
    "\n",
    "$$\n",
    "\\partial_{tt} u(t, x) = \\partial_{xx} u(t, x) (1 + \\frac{3}{2}\\partial_x u(t, x)^2)\n",
    "$$\n",
    "\n",
    "Esto me agrega al RHS un término tipo:\n",
    "$$\n",
    "a \\frac{u^2(t, x + h) - 2 u(t, x) u(t, x + h) + u^2(t, x)}{h^2}\n",
    "$$\n",
    "\n",
    "O bien, usando la derivada al otro lado:\n",
    "$$\n",
    "a \\frac{u^2(t, x) - 2 u(t, x) u(t, x - h) + u^2(t, x-h)}{h^2}"
   ]
  },
  {
   "cell_type": "markdown",
   "metadata": {},
   "source": [
    "tip leer Zeldovich Shock waves"
   ]
  }
 ],
 "metadata": {
  "kernelspec": {
   "display_name": "Julia 1.10.0",
   "language": "julia",
   "name": "julia-1.10"
  },
  "language_info": {
   "file_extension": ".jl",
   "mimetype": "application/julia",
   "name": "julia",
   "version": "1.10.0"
  }
 },
 "nbformat": 4,
 "nbformat_minor": 2
}
