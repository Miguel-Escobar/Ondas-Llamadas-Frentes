{
 "cells": [
  {
   "cell_type": "code",
   "execution_count": 483,
   "metadata": {},
   "outputs": [
    {
     "name": "stderr",
     "output_type": "stream",
     "text": [
      "┌ Warning: Interrupted. Larger maxiters is needed. If you are using an integrator for non-stiff ODEs or an automatic switching algorithm (the default), you may want to consider using a method for stiff equations. See the solver pages for more details (e.g. https://docs.sciml.ai/DiffEqDocs/stable/solvers/ode_solve/#Stiff-Problems).\n",
      "└ @ SciMLBase /Users/miguel/.julia/packages/SciMLBase/NkxGm/src/integrator_interface.jl:597\n"
     ]
    },
    {
     "data": {
      "text/plain": [
       "GLMakie.Screen(...)"
      ]
     },
     "metadata": {},
     "output_type": "display_data"
    }
   ],
   "source": [
    "using DifferentialEquations\n",
    "\n",
    "function logistic!(du, u, p, t)\n",
    "    r, k, mu = p\n",
    "    du[1] = u[2]\n",
    "    du[2] = mu^2 * (r*(u[1] - (u[1]^2)/k) - u[2])\n",
    "end\n",
    "\n",
    "u0 = [1e-8, 0.0]\n",
    "p = [1.0, 1.0, 1.0]\n",
    "tspan = (0.0, 1000.0)\n",
    "prob = ODEProblem(logistic!, u0, tspan, p)\n",
    "sol = solve(prob, AutoVern7(Rodas5P()), saveat=0.01, abstol = 1e-10, reltol = 1e-10)\n",
    "t = sol.t;\n",
    "\n",
    "using GLMakie\n",
    "fig = Figure()\n",
    "ax1 = Axis(fig[1, 1], xlabel=\"t\", ylabel=\"u(t), v(t)\")\n",
    "lines!(ax1, t, sol[1, :], label=\"u(t)\")\n",
    "lines!(ax1, t, sol[2, :], label=\"v(t)\")\n",
    "axislegend(ax1)\n",
    "\n",
    "ax2 = Axis(fig[1, 2], xlabel=\"u(t)\", ylabel=\"v(t)\")\n",
    "lines!(ax2, sol[1, :], sol[2, :])\n",
    "display(fig)\n"
   ]
  },
  {
   "cell_type": "code",
   "execution_count": 493,
   "metadata": {},
   "outputs": [
    {
     "name": "stdout",
     "output_type": "stream",
     "text": [
      "0.22727203369140625\n"
     ]
    },
    {
     "data": {
      "text/plain": [
       "GLMakie.Screen(...)"
      ]
     },
     "metadata": {},
     "output_type": "display_data"
    }
   ],
   "source": [
    "function comovile_front!(du, u, p, t)\n",
    "    r, k, mu_inv, v_inv_squared = p\n",
    "    du[1] = u[2]\n",
    "    du[2] = -(r*(u[1] - (u[1]^2)/k) + u[2])/(v_inv_squared - mu_inv^2)\n",
    "end\n",
    "\n",
    "mu_inv = 1.0e5\n",
    "r = 1.1\n",
    "k = 1.0\n",
    "v_inv_squared = (0.25/r + mu_inv^2)*1.0\n",
    "println(v_inv_squared - mu_inv^2)\n",
    "\n",
    "u0 = [1-1e-10, 0.0]\n",
    "p = [r, k, mu_inv, v_inv_squared]\n",
    "tspan = (0.0, 60.0)\n",
    "prob = ODEProblem(comovile_front!, u0, tspan, p)\n",
    "sol = solve(prob, AutoVern7(Rodas5P()), saveat=0.01, abstol = 1e-10, reltol = 1e-10)\n",
    "t = sol.t;\n",
    "\n",
    "using GLMakie\n",
    "fig = Figure()\n",
    "ax1 = Axis(fig[1, 1], xlabel=\"t\", ylabel=\"u(t), v(t)\")\n",
    "lines!(ax1, t, sol[1, :], label=\"u(t)\")\n",
    "lines!(ax1, t, sol[2, :], label=\"v(t)\")\n",
    "axislegend(ax1)\n",
    "\n",
    "ax2 = Axis(fig[1, 2], xlabel=\"u(t)\", ylabel=\"v(t)\")\n",
    "lines!(ax2, sol[1, :], sol[2, :])\n",
    "display(fig)"
   ]
  },
  {
   "cell_type": "code",
   "execution_count": 17,
   "metadata": {},
   "outputs": [
    {
     "name": "stdout",
     "output_type": "stream",
     "text": [
      "99.99\n"
     ]
    },
    {
     "data": {
      "text/plain": [
       "GLMakie.Screen(...)"
      ]
     },
     "metadata": {},
     "output_type": "display_data"
    }
   ],
   "source": [
    "using DifferentialEquations\n",
    "\n",
    "function comovile_front2!(du, u, p, t)\n",
    "    r, k, mu, v = p\n",
    "    du[1] = u[2]\n",
    "    du[2] = mu^2*(r*u[1]*(1-u[1]/k) + v*u[2])/(v^2 - mu^2)\n",
    "end\n",
    "\n",
    "mu = 0.1\n",
    "r = 1.0\n",
    "k = 1.0\n",
    "v = 10.0 #sqrt(4*r*mu^2/(mu^2 + 4*r))\n",
    "println(v^2 - mu^2)\n",
    "\n",
    "u0 = [1e-10, 0.0]\n",
    "p = [r, k, mu, v]\n",
    "tspan = (10000.0, 0.0)\n",
    "prob = ODEProblem(comovile_front2!, u0, tspan, p)\n",
    "sol = solve(prob, AutoVern7(Rodas5P()), saveat=0.01, abstol = 1e-10, reltol = 1e-10)\n",
    "t = sol.t;\n",
    "\n",
    "using GLMakie\n",
    "fig = Figure()\n",
    "ax1 = Axis(fig[1, 1], xlabel=\"t\", ylabel=\"u(t), v(t)\")\n",
    "lines!(ax1, t, sol[1, :], label=\"u(t)\")\n",
    "lines!(ax1, t, sol[2, :], label=\"v(t)\")\n",
    "axislegend(ax1)\n",
    "\n",
    "ax2 = Axis(fig[1, 2], xlabel=\"u(t)\", ylabel=\"v(t)\")\n",
    "lines!(ax2, sol[1, :], sol[2, :])\n",
    "display(fig)"
   ]
  },
  {
   "cell_type": "code",
   "execution_count": 18,
   "metadata": {},
   "outputs": [
    {
     "data": {
      "text/plain": [
       "GLMakie.Screen(...)"
      ]
     },
     "metadata": {},
     "output_type": "display_data"
    }
   ],
   "source": [
    "using DifferentialEquations\n",
    "\n",
    "function logistic_no_damping!(du, u, p, t)\n",
    "    r, k, mu = p\n",
    "    du[1] = u[2]\n",
    "    du[2] = r*(u[1] - (u[1]^2))\n",
    "end\n",
    "\n",
    "u0 = [1e-2, 0.0]\n",
    "p = [1.0, 1.0, 1.0]\n",
    "tspan = (0.0, 100.0)\n",
    "prob = ODEProblem(logistic_no_damping!, u0, tspan, p)\n",
    "sol = solve(prob, AutoVern7(Rodas5P()), saveat=0.01, abstol = 1e-10, reltol = 1e-10)\n",
    "t = sol.t;\n",
    "\n",
    "using GLMakie\n",
    "fig = Figure()\n",
    "ax1 = Axis(fig[1, 1], xlabel=\"t\", ylabel=\"u(t), v(t)\")\n",
    "lines!(ax1, t, sol[1, :], label=\"u(t)\")\n",
    "lines!(ax1, t, sol[2, :], label=\"v(t)\")\n",
    "axislegend(ax1)\n",
    "\n",
    "ax2 = Axis(fig[1, 2], xlabel=\"u(t)\", ylabel=\"v(t)\")\n",
    "lines!(ax2, sol[1, :], sol[2, :])\n",
    "display(fig)\n"
   ]
  }
 ],
 "metadata": {
  "kernelspec": {
   "display_name": "Julia 1.10.0",
   "language": "julia",
   "name": "julia-1.10"
  },
  "language_info": {
   "file_extension": ".jl",
   "mimetype": "application/julia",
   "name": "julia",
   "version": "1.10.0"
  }
 },
 "nbformat": 4,
 "nbformat_minor": 2
}
