{
 "cells": [
  {
   "cell_type": "code",
   "execution_count": 31,
   "metadata": {},
   "outputs": [
    {
     "data": {
      "text/plain": [
       "GLMakie.Screen(...)"
      ]
     },
     "metadata": {},
     "output_type": "display_data"
    }
   ],
   "source": [
    "using DifferentialEquations\n",
    "\n",
    "function logistic!(du, u, p, t)\n",
    "    r, k, mu = p\n",
    "    du[1] = u[2]\n",
    "    du[2] = mu^2 * (r*(u[1] - (u[1]^2)/k) - u[2])\n",
    "end\n",
    "\n",
    "u0 = [0.00001, 0.0]\n",
    "p = [1.0, 1.0, 0.15]\n",
    "tspan = (0.0, 500.0)\n",
    "prob = ODEProblem(logistic!, u0, tspan, p)\n",
    "sol = solve(prob, Tsit5(), saveat=0.1)\n",
    "t = sol.t"
   ]
  },
  {
   "cell_type": "code",
   "execution_count": null,
   "metadata": {},
   "outputs": [],
   "source": [
    "using GLMakie\n",
    "fig = Figure()\n",
    "ax1 = Axis(fig[1, 1], xlabel=\"t\", ylabel=\"u(t), v(t)\")\n",
    "lines!(ax1, t, sol[1, :], label=\"u(t)\")\n",
    "lines!(ax1, t, sol[2, :], label=\"v(t)\")\n",
    "axislegend(ax1)\n",
    "\n",
    "ax2 = Axis(fig[1, 2], xlabel=\"u(t)\", ylabel=\"v(t)\")\n",
    "lines!(ax2, sol[1, :], sol[2, :])\n",
    "display(fig)\n"
   ]
  }
 ],
 "metadata": {
  "kernelspec": {
   "display_name": "Julia 1.10.0",
   "language": "julia",
   "name": "julia-1.10"
  },
  "language_info": {
   "file_extension": ".jl",
   "mimetype": "application/julia",
   "name": "julia",
   "version": "1.10.0"
  }
 },
 "nbformat": 4,
 "nbformat_minor": 2
}
