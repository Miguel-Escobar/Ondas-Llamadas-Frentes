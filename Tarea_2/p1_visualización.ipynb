{
 "cells": [
  {
   "cell_type": "markdown",
   "metadata": {},
   "source": [
    "### Código para la P1"
   ]
  },
  {
   "cell_type": "code",
   "execution_count": null,
   "metadata": {},
   "outputs": [],
   "source": [
    "using DifferentialEquations\n",
    "\n",
    "function comovile_front!(du, u, p, t)\n",
    "    mu, v, w = p\n",
    "    du[1] = u[2]\n",
    "    du[2] = (-w*sin(pi*u[1]) - v*u[2])/(1 - (v^2 / mu^2))\n",
    "end\n",
    "\n",
    "mu = 2.0\n",
    "w = 1.0/pi\n",
    "v = 2*sqrt(1/(1 + 4*w/(mu^2)))\n",
    "\n",
    "u0 = [1 - 1e-3, 0.0]\n",
    "p = [mu, v, w]\n",
    "tspan = (0.0, 6000.0)\n",
    "prob = ODEProblem(comovile_front!, u0, tspan, p)\n",
    "sol = solve(prob, AutoVern7(Rodas5P()), saveat=0.01, abstol = 1e-10, reltol = 1e-10)\n",
    "t = sol.t;\n",
    "\n",
    "using GLMakie\n",
    "fig = Figure()\n",
    "ax1 = Axis(fig[1, 1], xlabel=\"t\", ylabel=\"u(t), v(t)\")\n",
    "lines!(ax1, t, sol[1, :], label=\"u(t)\")\n",
    "lines!(ax1, t, sol[2, :], label=\"v(t)\")\n",
    "axislegend(ax1)\n",
    "\n",
    "ax2 = Axis(fig[1, 2], xlabel=\"u(t)\", ylabel=\"v(t)\")\n",
    "lines!(ax2, sol[1, :], sol[2, :])\n",
    "display(fig)\n",
    "tol = 1e-15\n",
    "println(\"El valor mínimo alcanzado fue: \", minimum(sol[1, :]))\n",
    "if minimum(sol[1, :]) < 0 - tol\n",
    "    println(\"Está bajo la velocidad mínima.\")\n",
    "else\n",
    "    println(\"Corresponde a un frente factible, o bien falta tiempo de integración.\")\n",
    "end"
   ]
  },
  {
   "cell_type": "markdown",
   "metadata": {},
   "source": [
    "### Integración P3\n"
   ]
  },
  {
   "cell_type": "code",
   "execution_count": 1,
   "metadata": {},
   "outputs": [
    {
     "ename": "InterruptException",
     "evalue": "InterruptException:",
     "output_type": "error",
     "traceback": [
      "InterruptException:\n",
      "\n",
      "Stacktrace:\n",
      "  [1] _include_from_serialized(pkg::Base.PkgId, path::String, ocachepath::String, depmods::Vector{Any})\n",
      "    @ Base ./loading.jl:1052\n",
      "  [2] _tryrequire_from_serialized(modkey::Base.PkgId, path::String, ocachepath::String, sourcepath::String, depmods::Vector{Any})\n",
      "    @ Base ./loading.jl:1475\n",
      "  [3] _require_search_from_serialized(pkg::Base.PkgId, sourcepath::String, build_id::UInt128)\n",
      "    @ Base ./loading.jl:1568\n",
      "  [4] _require(pkg::Base.PkgId, env::String)\n",
      "    @ Base ./loading.jl:1932\n",
      "  [5] __require_prelocked(uuidkey::Base.PkgId, env::String)\n",
      "    @ Base ./loading.jl:1806\n",
      "  [6] #invoke_in_world#3\n",
      "    @ Base ./essentials.jl:921 [inlined]\n",
      "  [7] invoke_in_world\n",
      "    @ Base ./essentials.jl:918 [inlined]\n",
      "  [8] _require_prelocked(uuidkey::Base.PkgId, env::String)\n",
      "    @ Base ./loading.jl:1797\n",
      "  [9] macro expansion\n",
      "    @ Base ./loading.jl:1784 [inlined]\n",
      " [10] macro expansion\n",
      "    @ Base ./lock.jl:267 [inlined]\n",
      " [11] __require(into::Module, mod::Symbol)\n",
      "    @ Base ./loading.jl:1747\n",
      " [12] #invoke_in_world#3\n",
      "    @ Base ./essentials.jl:921 [inlined]\n",
      " [13] invoke_in_world\n",
      "    @ Base ./essentials.jl:918 [inlined]\n",
      " [14] require(into::Module, mod::Symbol)\n",
      "    @ Base ./loading.jl:1740\n",
      " [15] eval\n",
      "    @ ./boot.jl:385 [inlined]\n",
      " [16] include_string(mapexpr::typeof(REPL.softscope), mod::Module, code::String, filename::String)\n",
      "    @ Base ./loading.jl:2070\n",
      " [17] #invokelatest#2\n",
      "    @ ./essentials.jl:887 [inlined]\n",
      " [18] invokelatest\n",
      "    @ ./essentials.jl:884 [inlined]\n",
      " [19] (::VSCodeServer.var\"#219#220\"{VSCodeServer.NotebookRunCellArguments, String})()\n",
      "    @ VSCodeServer ~/.vscode-insiders/extensions/julialang.language-julia-1.83.2/scripts/packages/VSCodeServer/src/serve_notebook.jl:19\n",
      " [20] withpath(f::VSCodeServer.var\"#219#220\"{VSCodeServer.NotebookRunCellArguments, String}, path::String)\n",
      "    @ VSCodeServer ~/.vscode-insiders/extensions/julialang.language-julia-1.83.2/scripts/packages/VSCodeServer/src/repl.jl:276\n",
      " [21] notebook_runcell_request(conn::VSCodeServer.JSONRPC.JSONRPCEndpoint{Base.PipeEndpoint, Base.PipeEndpoint}, params::VSCodeServer.NotebookRunCellArguments)\n",
      "    @ VSCodeServer ~/.vscode-insiders/extensions/julialang.language-julia-1.83.2/scripts/packages/VSCodeServer/src/serve_notebook.jl:13\n",
      " [22] dispatch_msg(x::VSCodeServer.JSONRPC.JSONRPCEndpoint{Base.PipeEndpoint, Base.PipeEndpoint}, dispatcher::VSCodeServer.JSONRPC.MsgDispatcher, msg::Dict{String, Any})\n",
      "    @ VSCodeServer.JSONRPC ~/.vscode-insiders/extensions/julialang.language-julia-1.83.2/scripts/packages/JSONRPC/src/typed.jl:67\n",
      " [23] serve_notebook(pipename::String, outputchannel_logger::Base.CoreLogging.SimpleLogger; crashreporting_pipename::String)\n",
      "    @ VSCodeServer ~/.vscode-insiders/extensions/julialang.language-julia-1.83.2/scripts/packages/VSCodeServer/src/serve_notebook.jl:139\n",
      " [24] top-level scope\n",
      "    @ ~/.vscode-insiders/extensions/julialang.language-julia-1.83.2/scripts/notebook/notebook.jl:35"
     ]
    }
   ],
   "source": [
    "using DifferentialEquations\n",
    "\n",
    "function hyper_diffusion_front!(du, u, p, t)\n",
    "    v, r, γ = p\n",
    "    inv = 1/γ\n",
    "    du[1] = u[2]\n",
    "    du[2] = u[3]\n",
    "    du[3] = u[4]\n",
    "    du[4] = (r*u[1]*(1.0-u[1]) + v*u[2] + u[3])*inv\n",
    "end\n",
    "\n",
    "v = 2.0\n",
    "r = 1\n",
    "γ = 0.01\n",
    "u0 = [0.001, 0.0, 0.0, 0.0]\n",
    "p = [v, r, γ]\n",
    "tspan = (10.0, 0.0)\n",
    "prob = ODEProblem(hyper_diffusion_front!, u0, tspan, p)\n",
    "sol = solve(prob, AutoTsit5(Rosenbrock23()), dtmax = 0.01)\n",
    "t = sol.t;\n",
    "\n",
    "using GLMakie\n",
    "\n",
    "fig = Figure()\n",
    "ax1 = Axis(fig[1, 1], xlabel=\"z\", ylabel=\"u(z)\")\n",
    "lines!(ax1, t, sol[1, :], label=\"u(z)\")\n",
    "axislegend(ax1)\n",
    "\n",
    "ax2 = Axis(fig[1, 2], xlabel=\"u(z)\", ylabel=\"v(z)\")\n",
    "lines!(ax2, sol[1, :], sol[2, :])\n",
    "display(fig)\n"
   ]
  },
  {
   "cell_type": "code",
   "execution_count": 73,
   "metadata": {},
   "outputs": [
    {
     "name": "stderr",
     "output_type": "stream",
     "text": [
      "┌ Warning: At t=66.9044051932279, dt was forced below floating point epsilon 1.4210854715202004e-14, and step error estimate = 1610.4494055466544. Aborting. There is either an error in your model specification or the true solution is unstable (or the true solution can not be represented in the precision of Float64).\n",
      "└ @ SciMLBase /Users/miguel/.julia/packages/SciMLBase/sakPO/src/integrator_interface.jl:633\n"
     ]
    }
   ],
   "source": [
    "using DifferentialEquations\n",
    "\n",
    "function hyper_diffusion!(du, u, p, t)\n",
    "    r, γ, dx = p\n",
    "    fourth_order_derivative = (u[5:end] .- 4*u[4:end-1] .+ 6*u[3:end-2] .- 4*u[2:end-3] .+ u[1:end-4])/dx^4\n",
    "    second_order_derivative = (u[3:end] .- 2*u[2:end-1] .+ u[1:end-2])/dx^2\n",
    "    du[3:end-2] = r .* u[3:end-2] .* (1.0 .- u[3:end-2]) .+ second_order_derivative[2:end-1] .- γ.* fourth_order_derivative\n",
    "    du[2] = r .* u[2] .* (1.0 .- u[2]) .+ second_order_derivative[1] .- γ .* (u[4] - 4*u[3] + 6*u[2] - 4*u[1] + u[1])/dx^4\n",
    "    du[1] = r .* u[1] .* (1.0 .- u[1]) .+ (u[2] .- 2*u[1] .+ u[1])/dx^2 .- γ .* (u[3] - 4*u[2] + 6*u[1] - 4*u[1] + u[1])/dx^4\n",
    "    du[end-1] = r .* u[end-1] .* (1.0 .- u[end-1]) .+ second_order_derivative[end] .- γ .* (u[end-3] - 4*u[end-2] + 6*u[end-1] - 4*u[end] + u[end])/dx^4\n",
    "    du[end] = r .* u[end] .* (1.0 .- u[end]) .+ (u[end] .- 2*u[end] .+ u[end-1])/dx^2 .- γ .* (u[end-2] - 4*u[end-1] + 6*u[end] - 4*u[end] + u[end])/dx^4\n",
    "end\n",
    "\n",
    "r = 1.0\n",
    "γ = 1/8\n",
    "dx = 0.5\n",
    "x = 0:dx:200\n",
    "u0 = zeros(length(x))#exp.((-x.^2)./1.0)\n",
    "u0[1] = 1.0\n",
    "p = [r, γ, dx]\n",
    "\n",
    "tspan = (0.0, 110.0)\n",
    "prob = ODEProblem(hyper_diffusion!, u0, tspan, p, progress=true)\n",
    "sol = solve(prob, AutoTsit5(Rosenbrock23()), dtmax = 0.1)\n",
    "t = sol.t;"
   ]
  },
  {
   "cell_type": "code",
   "execution_count": 74,
   "metadata": {},
   "outputs": [
    {
     "data": {
      "text/plain": [
       "GLMakie.Screen(...)"
      ]
     },
     "metadata": {},
     "output_type": "display_data"
    }
   ],
   "source": [
    "using GLMakie\n",
    "using Printf\n",
    "\n",
    "fig = Figure()\n",
    "ax1 = Axis(fig[1, 1], xlabel=\"x\", ylabel=\"u(t_i, x)\")\n",
    "limits!(ax1, 0, 200, -0.1, 1.1)\n",
    "n_time_intervals=10\n",
    "times = range(0, stop=tspan[2], length=n_time_intervals)\n",
    "for time in times\n",
    "    index = argmin(abs.(sol.t .- time))\n",
    "    lines!(ax1, x, sol.u[index], label=\"t = $(@sprintf(\"%.1f\", time))\")\n",
    "end\n",
    "axislegend(ax1)\n",
    "display(fig)\n"
   ]
  },
  {
   "cell_type": "code",
   "execution_count": 70,
   "metadata": {},
   "outputs": [
    {
     "name": "stdout",
     "output_type": "stream",
     "text": [
      "La velocidad de la onda es: 1.8856180831641267\n"
     ]
    },
    {
     "data": {
      "text/plain": [
       "GLMakie.Screen(...)"
      ]
     },
     "metadata": {},
     "output_type": "display_data"
    }
   ],
   "source": [
    "using GLMakie\n",
    "speed = (2/3) * sqrt((1 - sqrt(1- 12*γ*r))/(6*γ))*(2 - sqrt(1 - 12*γ*r))\n",
    "println(\"La velocidad de la onda es: \", speed)\n",
    "\n",
    "fig = Figure()\n",
    "ax1 = Axis(fig[1, 1], xlabel=\"x\", ylabel=\"t\")\n",
    "heatmap!(ax1, x, sol.t, sol[1:end, 1:end], colormap = :RdGy)\n",
    "lines!(ax1, x, x./speed, color = :green, linewidth = 6)\n",
    "display(fig)\n"
   ]
  },
  {
   "cell_type": "code",
   "execution_count": 55,
   "metadata": {},
   "outputs": [
    {
     "data": {
      "text/plain": [
       "2.790099256446529"
      ]
     },
     "metadata": {},
     "output_type": "display_data"
    }
   ],
   "source": [
    "speed = r/sqrt(1/(6*γ) + sqrt(r + (1 / (6*γ))^2)) + sqrt(1/(6*γ) + sqrt(r + (1 / (6*γ))^2)) + γ * sqrt(1/(6*γ) + sqrt(r + (1 / (6*γ))^2))^(3/2)\n"
   ]
  }
 ],
 "metadata": {
  "kernelspec": {
   "display_name": "Julia 1.10.0",
   "language": "julia",
   "name": "julia-1.10"
  },
  "language_info": {
   "file_extension": ".jl",
   "mimetype": "application/julia",
   "name": "julia",
   "version": "1.10.0"
  }
 },
 "nbformat": 4,
 "nbformat_minor": 2
}
